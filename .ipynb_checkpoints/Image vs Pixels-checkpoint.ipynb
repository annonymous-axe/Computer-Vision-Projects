{
 "cells": [
  {
   "cell_type": "code",
   "execution_count": 1,
   "id": "8e7266a0",
   "metadata": {},
   "outputs": [],
   "source": [
    "import numpy as np\n",
    "import matplotlib.pyplot as plt"
   ]
  },
  {
   "cell_type": "code",
   "execution_count": 32,
   "id": "42039af1",
   "metadata": {},
   "outputs": [],
   "source": [
    "arr = np.array([[0,1,0,1], [1,0,1,0], [0,1,0,1], [1,0,1,0]], dtype='float')"
   ]
  },
  {
   "cell_type": "code",
   "execution_count": 33,
   "id": "733a36a2",
   "metadata": {},
   "outputs": [
    {
     "data": {
      "text/plain": [
       "array([[0., 1., 0., 1.],\n",
       "       [1., 0., 1., 0.],\n",
       "       [0., 1., 0., 1.],\n",
       "       [1., 0., 1., 0.]])"
      ]
     },
     "execution_count": 33,
     "metadata": {},
     "output_type": "execute_result"
    }
   ],
   "source": [
    "arr"
   ]
  },
  {
   "cell_type": "code",
   "execution_count": 10,
   "id": "e6136e67",
   "metadata": {},
   "outputs": [
    {
     "data": {
      "text/plain": [
       "<matplotlib.image.AxesImage at 0x1eba5e35ff0>"
      ]
     },
     "execution_count": 10,
     "metadata": {},
     "output_type": "execute_result"
    },
    {
     "data": {
      "image/png": "[encoded data removed]",
      "text/plain": [
       "<Figure size 640x480 with 1 Axes>"
      ]
     },
     "metadata": {},
     "output_type": "display_data"
    }
   ],
   "source": [
    "plt.imshow(arr)"
   ]
  },
  {
   "cell_type": "markdown",
   "id": "37e7366c",
   "metadata": {},
   "source": [
    "# Create a chess board"
   ]
  },
  {
   "cell_type": "code",
   "execution_count": 15,
   "id": "43cc48b6",
   "metadata": {},
   "outputs": [],
   "source": [
    "rows = []\n",
    "for row in range(7):\n",
    "    cols = []\n",
    "    if row%2 == 0:\n",
    "        start_point = 1\n",
    "    else:\n",
    "        start_point = 0    \n",
    "    for col in range(7):\n",
    "        if start_point == 1:\n",
    "            cols.append(start_point)\n",
    "            start_point = 0\n",
    "        else:\n",
    "            cols.append(start_point)\n",
    "            start_point = 1\n",
    "    rows.append(cols)                "
   ]
  },
  {
   "cell_type": "code",
   "execution_count": 16,
   "id": "d2af261f",
   "metadata": {},
   "outputs": [
    {
     "data": {
      "text/plain": [
       "[[1, 0, 1, 0, 1, 0, 1],\n",
       " [0, 1, 0, 1, 0, 1, 0],\n",
       " [1, 0, 1, 0, 1, 0, 1],\n",
       " [0, 1, 0, 1, 0, 1, 0],\n",
       " [1, 0, 1, 0, 1, 0, 1],\n",
       " [0, 1, 0, 1, 0, 1, 0],\n",
       " [1, 0, 1, 0, 1, 0, 1]]"
      ]
     },
     "execution_count": 16,
     "metadata": {},
     "output_type": "execute_result"
    }
   ],
   "source": [
    "rows"
   ]
  },
  {
   "cell_type": "code",
   "execution_count": 17,
   "id": "91e2e133",
   "metadata": {},
   "outputs": [
    {
     "data": {
      "text/plain": [
       "<matplotlib.image.AxesImage at 0x1eba5ed4310>"
      ]
     },
     "execution_count": 17,
     "metadata": {},
     "output_type": "execute_result"
    },
    {
     "data": {
      "image/png": "[encoded data removed]",
      "text/plain": [
       "<Figure size 640x480 with 1 Axes>"
      ]
     },
     "metadata": {},
     "output_type": "display_data"
    }
   ],
   "source": [
    "plt.imshow(rows)"
   ]
  },
  {
   "cell_type": "markdown",
   "id": "a1b04a78",
   "metadata": {},
   "source": [
    "# Expoting image using OpenCV & Color Shades"
   ]
  },
  {
   "cell_type": "code",
   "execution_count": 18,
   "id": "da2dfd89",
   "metadata": {},
   "outputs": [],
   "source": [
    "import cv2 as cv"
   ]
  },
  {
   "cell_type": "code",
   "execution_count": 34,
   "id": "c02c0c6a",
   "metadata": {},
   "outputs": [
    {
     "data": {
      "text/plain": [
       "True"
      ]
     },
     "execution_count": 34,
     "metadata": {},
     "output_type": "execute_result"
    }
   ],
   "source": [
    "cv.imwrite(\"simple_img.png\", arr)"
   ]
  },
  {
   "cell_type": "code",
   "execution_count": 28,
   "id": "31e764f2",
   "metadata": {},
   "outputs": [
    {
     "data": {
      "text/plain": [
       "array([[0, 1, 0, 1],\n",
       "       [1, 0, 1, 0],\n",
       "       [0, 1, 0, 1],\n",
       "       [1, 0, 1, 0]])"
      ]
     },
     "execution_count": 28,
     "metadata": {},
     "output_type": "execute_result"
    }
   ],
   "source": [
    "arr"
   ]
  },
  {
   "cell_type": "markdown",
   "id": "1d817ee7",
   "metadata": {},
   "source": [
    "Although, imshow() showing dark & light colors, original image which is save using imwrite() is black.\n",
    "\n",
    "As image pixels are from 0(black) to 255(white)\n",
    "\n",
    "So, let's create a chess board balck & white."
   ]
  },
  {
   "cell_type": "code",
   "execution_count": 37,
   "id": "bb1996ee",
   "metadata": {},
   "outputs": [],
   "source": [
    "rows = []\n",
    "for row in range(7):\n",
    "    cols = []\n",
    "    if row%2 == 0:\n",
    "        start_point = 255\n",
    "    else:\n",
    "        start_point = 0    \n",
    "    for col in range(7):\n",
    "        if start_point == 255:\n",
    "            cols.append(start_point)\n",
    "            start_point = 0\n",
    "        else:\n",
    "            cols.append(start_point)\n",
    "            start_point = 255\n",
    "    rows.append(cols) \n",
    "rows = np.array(rows)"
   ]
  },
  {
   "cell_type": "code",
   "execution_count": 38,
   "id": "e9935479",
   "metadata": {},
   "outputs": [
    {
     "data": {
      "text/plain": [
       "True"
      ]
     },
     "execution_count": 38,
     "metadata": {},
     "output_type": "execute_result"
    }
   ],
   "source": [
    "cv.imwrite('chess_board.png', rows)"
   ]
  },
  {
   "cell_type": "markdown",
   "id": "8f8c7382",
   "metadata": {},
   "source": [
    "It's too small.."
   ]
  },
  {
   "cell_type": "code",
   "execution_count": 54,
   "id": "f6fee88e",
   "metadata": {},
   "outputs": [],
   "source": [
    "#let's create a big image of black shades\n",
    "dim = (255, 1200)\n",
    "ls = []\n",
    "for i in range(dim[0]):\n",
    "    temp = []\n",
    "    for j in range(dim[1]):\n",
    "        temp.append(i*10)\n",
    "    ls.append(temp)\n",
    "img_arr = np.array(ls)"
   ]
  },
  {
   "cell_type": "code",
   "execution_count": 55,
   "id": "4221679b",
   "metadata": {},
   "outputs": [
    {
     "data": {
      "text/plain": [
       "<matplotlib.image.AxesImage at 0x1ebab3e3be0>"
      ]
     },
     "execution_count": 55,
     "metadata": {},
     "output_type": "execute_result"
    },
    {
     "data": {
      "image/png": "[encoded data removed]",
      "text/plain": [
       "<Figure size 640x480 with 1 Axes>"
      ]
     },
     "metadata": {},
     "output_type": "display_data"
    }
   ],
   "source": [
    "plt.imshow(img_arr)"
   ]
  },
  {
   "cell_type": "code",
   "execution_count": 56,
   "id": "cd70da2c",
   "metadata": {},
   "outputs": [
    {
     "data": {
      "text/plain": [
       "True"
      ]
     },
     "execution_count": 56,
     "metadata": {},
     "output_type": "execute_result"
    }
   ],
   "source": [
    "cv.imwrite('black_shades_2.png', img_arr)"
   ]
  },
  {
   "cell_type": "code",
   "execution_count": null,
   "id": "a0f5051f",
   "metadata": {},
   "outputs": [],
   "source": []
  }
 ],
 "metadata": {
  "kernelspec": {
   "display_name": "Python 3 (ipykernel)",
   "language": "python",
   "name": "python3"
  },
  "language_info": {
   "codemirror_mode": {
    "name": "ipython",
    "version": 3
   },
   "file_extension": ".py",
   "mimetype": "text/x-python",
   "name": "python",
   "nbconvert_exporter": "python",
   "pygments_lexer": "ipython3",
   "version": "3.10.9"
  }
 },
 "nbformat": 4,
 "nbformat_minor": 5
}
