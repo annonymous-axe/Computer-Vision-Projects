{
 "cells": [
  {
   "cell_type": "code",
   "execution_count": 32,
   "id": "c0ef48c4",
   "metadata": {},
   "outputs": [],
   "source": [
    "import cv2 as cv\n",
    "import numpy as np\n",
    "import matplotlib.pyplot as plt"
   ]
  },
  {
   "cell_type": "markdown",
   "id": "77cf6134",
   "metadata": {},
   "source": [
    "# Add logo manually"
   ]
  },
  {
   "cell_type": "code",
   "execution_count": 23,
   "id": "8c278179",
   "metadata": {
    "scrolled": true
   },
   "outputs": [],
   "source": [
    "logo_path = \"gfg_logo.png\"\n",
    "\n",
    "cam = cv.VideoCapture(0)\n",
    "\n",
    "while True:\n",
    "    \n",
    "    _, img = cam.read()\n",
    "    \n",
    "    img = cv.flip(img, 1)\n",
    "    \n",
    "    logo = cv.imread(logo_path)\n",
    "    \n",
    "    logo = cv.resize(logo, (100, 100))\n",
    "    \n",
    "    img[375:475, 535:635] = logo\n",
    "    \n",
    "    cv.imshow(\"Frame\", img)\n",
    "    key = cv.waitKey(1)\n",
    "    \n",
    "    if key == 13:\n",
    "        cam.release()\n",
    "        break"
   ]
  },
  {
   "cell_type": "code",
   "execution_count": 3,
   "id": "83bde373",
   "metadata": {},
   "outputs": [
    {
     "data": {
      "text/plain": [
       "(195, 258, 3)"
      ]
     },
     "execution_count": 3,
     "metadata": {},
     "output_type": "execute_result"
    }
   ],
   "source": [
    "logo_path = \"gfg_logo.png\"\n",
    "logo = cv.imread(logo_path)\n",
    "logo.shape"
   ]
  },
  {
   "cell_type": "code",
   "execution_count": 7,
   "id": "b9aec868",
   "metadata": {},
   "outputs": [
    {
     "data": {
      "text/plain": [
       "(480, 640, 3)"
      ]
     },
     "execution_count": 7,
     "metadata": {},
     "output_type": "execute_result"
    }
   ],
   "source": [
    "img.shape"
   ]
  },
  {
   "cell_type": "code",
   "execution_count": 9,
   "id": "5422e2bd",
   "metadata": {},
   "outputs": [
    {
     "data": {
      "text/plain": [
       "382"
      ]
     },
     "execution_count": 9,
     "metadata": {},
     "output_type": "execute_result"
    }
   ],
   "source": [
    "640 - 258"
   ]
  },
  {
   "cell_type": "code",
   "execution_count": null,
   "id": "8cc9b252",
   "metadata": {},
   "outputs": [],
   "source": [
    "img[5:300, 380:640]"
   ]
  },
  {
   "cell_type": "code",
   "execution_count": 30,
   "id": "184beb3b",
   "metadata": {},
   "outputs": [],
   "source": [
    "cam.release()"
   ]
  },
  {
   "cell_type": "markdown",
   "id": "e13e1ba4",
   "metadata": {},
   "source": [
    "# Add logo by measuring percentage"
   ]
  },
  {
   "cell_type": "code",
   "execution_count": 31,
   "id": "06c35269",
   "metadata": {},
   "outputs": [],
   "source": [
    "logo_path = \"gfg_logo.png\"\n",
    "\n",
    "cam = cv.VideoCapture(0)\n",
    "\n",
    "while True:\n",
    "    \n",
    "    _, img = cam.read()\n",
    "    \n",
    "    img = cv.flip(img, 1)\n",
    "    \n",
    "    logo = cv.imread(logo_path)\n",
    "    \n",
    "    wt = img.shape[1]\n",
    "    ht = img.shape[0]\n",
    "    \n",
    "    margin_top = int((ht/100))\n",
    "    margin_left = int((wt/100)*86.5)\n",
    "\n",
    "    logo_width = int((wt/100)*12)\n",
    "    logo_height = int((ht/100)*17)    \n",
    "    \n",
    "    logo = cv.resize(logo, (logo_width, logo_height))\n",
    "    \n",
    "    img[margin_top:logo_height+margin_top, margin_left:margin_left+logo_width] = logo\n",
    "    \n",
    "    cv.imshow(\"Frame\", img)\n",
    "    key = cv.waitKey(1)\n",
    "    \n",
    "    if key == 13:\n",
    "        cam.release()\n",
    "        break"
   ]
  },
  {
   "cell_type": "code",
   "execution_count": null,
   "id": "d877e5d2",
   "metadata": {},
   "outputs": [],
   "source": []
  },
  {
   "cell_type": "markdown",
   "id": "b43ee40b",
   "metadata": {},
   "source": [
    "# Top Left\n",
    "\n",
    "Height ( 1%  = Margin | 10% = Logo | 89%   = Vecant ) \n",
    "\n",
    "Width  ( .5% = Margin | 15% = Logo | 84.5% = Vecant )"
   ]
  },
  {
   "cell_type": "code",
   "execution_count": null,
   "id": "48b3fe83",
   "metadata": {},
   "outputs": [],
   "source": [
    "cam = cv.VideoCapture(0)\n",
    "\n",
    "\n",
    "r = 1280\n",
    "\n",
    "while True:\n",
    "    \n",
    "    logo_path = \"gfg_logo.png\" # To reload the logo again (It is restore if we increase the size of logo after reducing it)\n",
    "    _, img = cam.read()\n",
    "    \n",
    "    img = cv.flip(img, 1)\n",
    "    img = cv.resize(img, (1280, 720)) # Size of Video\n",
    "    \n",
    "    img = img[:,:r]             \n",
    "    \n",
    "    logo = cv.imread(logo_path)\n",
    "    \n",
    "    img_height = img.shape[0]\n",
    "    img_width = img.shape[1]\n",
    "    \n",
    "    margin_top = int(img_height/100)        # 1% margin from top\n",
    "    logo_height = int((img_height/100)*15)  # 15% height of logo\n",
    "\n",
    "    margin_left = int((img_width/100)*.5)   # .5% margin from left\n",
    "    logo_width = int((img_width/100)*10)    # 10% width of logo\n",
    "    \n",
    "    side = min(logo_height, logo_width)     # Reduce the logo size according to side which is minimum\n",
    "    \n",
    "    logo = cv.resize(logo, (side, side))    # Define the logo size\n",
    "    \n",
    "    img[margin_left:side + margin_left, margin_top:side + margin_top] = logo # Set the logo to the image\n",
    "    \n",
    "    \n",
    "    \n",
    "    \n",
    "    cv.imshow(\"Original\", img)\n",
    "    \n",
    "    key = cv.waitKey(1)\n",
    "    \n",
    "    if key == 105:        # Press I for increase the r\n",
    "        r += 10\n",
    "    \n",
    "    elif key == 100:      # Press D for increase the r\n",
    "        r -= 10\n",
    "    \n",
    "    elif key == 13:       # Press enter to exit the loop\n",
    "        cam.release()\n",
    "        break"
   ]
  },
  {
   "cell_type": "code",
   "execution_count": 63,
   "id": "d9ecd737",
   "metadata": {},
   "outputs": [
    {
     "data": {
      "text/plain": [
       "100"
      ]
     },
     "execution_count": 63,
     "metadata": {},
     "output_type": "execute_result"
    }
   ],
   "source": [
    "cv.imshow(\"Org\", img)\n",
    "cv.waitKey(0)"
   ]
  },
  {
   "cell_type": "code",
   "execution_count": 66,
   "id": "1ea70513",
   "metadata": {},
   "outputs": [],
   "source": [
    "cam.release()"
   ]
  },
  {
   "cell_type": "code",
   "execution_count": null,
   "id": "8102bdce",
   "metadata": {},
   "outputs": [],
   "source": []
  }
 ],
 "metadata": {
  "kernelspec": {
   "display_name": "Python 3 (ipykernel)",
   "language": "python",
   "name": "python3"
  },
  "language_info": {
   "codemirror_mode": {
    "name": "ipython",
    "version": 3
   },
   "file_extension": ".py",
   "mimetype": "text/x-python",
   "name": "python",
   "nbconvert_exporter": "python",
   "pygments_lexer": "ipython3",
   "version": "3.10.9"
  }
 },
 "nbformat": 4,
 "nbformat_minor": 5
}
