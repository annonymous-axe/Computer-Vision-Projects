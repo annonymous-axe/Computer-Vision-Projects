{
 "cells": [
  {
   "cell_type": "code",
   "execution_count": 28,
   "id": "4b23a61f",
   "metadata": {},
   "outputs": [],
   "source": [
    "import cv2 as cv\n",
    "import numpy as np\n",
    "import matplotlib.pyplot as plt\n",
    "\n",
    "import os"
   ]
  },
  {
   "cell_type": "code",
   "execution_count": 2,
   "id": "7e0be003",
   "metadata": {},
   "outputs": [],
   "source": [
    "classifier = cv.CascadeClassifier(\"haarcascade_frontalface_default.xml\")"
   ]
  },
  {
   "cell_type": "code",
   "execution_count": 39,
   "id": "63fd24b8",
   "metadata": {},
   "outputs": [],
   "source": [
    "def save_face(frame, folder_name):\n",
    "    \n",
    "    img_name = len(os.listdir(folder_name)) + 1\n",
    "    \n",
    "    full_name = folder_name + \"/Face_\" + str(img_name) + \".png\"\n",
    "    \n",
    "    cv.imwrite(full_name, frame)"
   ]
  },
  {
   "cell_type": "code",
   "execution_count": 44,
   "id": "e8ad9b15",
   "metadata": {},
   "outputs": [],
   "source": [
    "src_img_path = \"images1.jpeg\"\n",
    "\n",
    "src_img = cv.imread(src_img_path)\n",
    "\n",
    "faces = classifier.detectMultiScale(src_img, 1.1, 5)\n",
    "\n",
    "# while True:\n",
    "for x,y,w,h in faces:\n",
    "    face = src_img[y:y+h,x:x+w]\n",
    "\n",
    "    cv.imshow(\"Image\", src_img)\n",
    "\n",
    "    cv.waitKey(0)\n",
    "    \n",
    "    cv.imshow(\"Face\", face)\n",
    "    \n",
    "    key = cv.waitKey(0)\n",
    "    \n",
    "    if key == 110: # for n\n",
    "        save_face(face, \"Faces\")\n",
    "            \n",
    "    elif key == 13: \n",
    "        cv.destroyAllWindows()\n",
    "        break\n",
    "    else:\n",
    "        pass\n",
    "        "
   ]
  },
  {
   "cell_type": "code",
   "execution_count": null,
   "id": "eaeabfd0",
   "metadata": {},
   "outputs": [],
   "source": []
  }
 ],
 "metadata": {
  "kernelspec": {
   "display_name": "Python 3 (ipykernel)",
   "language": "python",
   "name": "python3"
  },
  "language_info": {
   "codemirror_mode": {
    "name": "ipython",
    "version": 3
   },
   "file_extension": ".py",
   "mimetype": "text/x-python",
   "name": "python",
   "nbconvert_exporter": "python",
   "pygments_lexer": "ipython3",
   "version": "3.10.9"
  }
 },
 "nbformat": 4,
 "nbformat_minor": 5
}
