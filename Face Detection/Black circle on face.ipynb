{
 "cells": [
  {
   "cell_type": "code",
   "execution_count": 1,
   "id": "94a03241",
   "metadata": {},
   "outputs": [],
   "source": [
    "import cv2 as cv\n",
    "import numpy as np\n",
    "import matplotlib.pyplot as plt"
   ]
  },
  {
   "cell_type": "code",
   "execution_count": 3,
   "id": "8c913365",
   "metadata": {},
   "outputs": [],
   "source": [
    "classifier = cv.CascadeClassifier(\"haarcascade_frontalface_default.xml\")"
   ]
  },
  {
   "cell_type": "code",
   "execution_count": 23,
   "id": "d58e2d24",
   "metadata": {},
   "outputs": [],
   "source": [
    "cam = cv.VideoCapture(0)\n",
    "\n",
    "while True:\n",
    "    \n",
    "    _, img = cam.read()\n",
    "    \n",
    "    img   = cv.flip(img, 1)\n",
    "    \n",
    "    faces = classifier.detectMultiScale(img, 1.1, 10)\n",
    "    \n",
    "    try:\n",
    "        for (x,y,w,h) in faces:\n",
    "#             cv.rectangle(img, (x-20,y-20), (x+w+20, y+w+20), (0,180,0), 5)\n",
    "            cv.circle(img, ((x+int(w/2)), (y+int(h/2))), (w+h)//2, (0, 0, 0), -2)\n",
    "    except:\n",
    "        pass\n",
    "    \n",
    "    cv.imshow(\"Frame\", img)\n",
    "    \n",
    "    key = cv.waitKey(2)\n",
    "    \n",
    "    if key == 13:\n",
    "        cv.destroyAllWindows()\n",
    "        cam.release()\n",
    "        break"
   ]
  }
 ],
 "metadata": {
  "kernelspec": {
   "display_name": "Python 3 (ipykernel)",
   "language": "python",
   "name": "python3"
  },
  "language_info": {
   "codemirror_mode": {
    "name": "ipython",
    "version": 3
   },
   "file_extension": ".py",
   "mimetype": "text/x-python",
   "name": "python",
   "nbconvert_exporter": "python",
   "pygments_lexer": "ipython3",
   "version": "3.10.9"
  }
 },
 "nbformat": 4,
 "nbformat_minor": 5
}
